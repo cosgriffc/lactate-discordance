{
 "cells": [
  {
   "cell_type": "markdown",
   "metadata": {},
   "source": [
    "# Lactate Discordance Project\n",
    "## Classification Drivers\n",
    "### C.V. Cosgriff, MIT Critical Data\n",
    "\n",
    "Following our validation of the classifiers, we generated importance matrices for each. Of note `glucose_max` was the most important feature for both classifiers. `bicarbonate_min` was also in the top 5 for both. Given its association with acid-base equilibrium, this latter predictor is lessing suprising. Glucose however is interesting. Review of the literature reveals an abstract submitted to Critical Care (https://www.ncbi.nlm.nih.gov/pmc/articles/PMC3363583/) which noted an independent association between glucose and lactate levels. A recent paper in Nature also notes an interesting metabolic relationship between glucose and lactate (doi:10.1038/nature24057). "
   ]
  },
  {
   "cell_type": "code",
   "execution_count": null,
   "metadata": {},
   "outputs": [],
   "source": [
    "plt.hist(x = np.log(cohort.loc[(cohort.lactate_discordance == 0) & (cohort.apache_quartile == cohort.apache_quartile.min()), 'glucose_max'].dropna()), color = tableau20[0], alpha = 0.6, density = True, bins = 50, label = 'Non-discordant')\n",
    "plt.hist(x = np.log(cohort.loc[(cohort.lactate_discordance == 1) & (cohort.apache_quartile == cohort.apache_quartile.min()), 'glucose_max'].dropna()), color = tableau20[3], alpha = 0.6, density=True, bins = 50, label = 'Discordant')\n",
    "plt.legend(loc = 'best')\n",
    "plt.title('Max Glucose')\n",
    "plt.grid(True)\n",
    "plt.xlabel('$log(glucose_{max})$')\n",
    "plt.show()"
   ]
  }
 ],
 "metadata": {
  "kernelspec": {
   "display_name": "Python 3",
   "language": "python",
   "name": "python3"
  },
  "language_info": {
   "codemirror_mode": {
    "name": "ipython",
    "version": 3
   },
   "file_extension": ".py",
   "mimetype": "text/x-python",
   "name": "python",
   "nbconvert_exporter": "python",
   "pygments_lexer": "ipython3",
   "version": "3.6.4"
  }
 },
 "nbformat": 4,
 "nbformat_minor": 2
}
