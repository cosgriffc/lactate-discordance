{
 "cells": [
  {
   "cell_type": "markdown",
   "metadata": {},
   "source": [
    "# Lactate Discordance Project\n",
    "## Subcohort Mortality\n",
    "### C.V. Cosgriff, MIT Critical Data\n",
    "\n",
    "In this notebook we briefly examine the mortality with respect to lactate discordance and disease severity that we built the classifiers for; the value of predicting who these patients are is in outcomes and so the key question we seek to answer in this notebook is: in our two subpopulations, how does discordance affect mortality?\n",
    "\n",
    "Because we did not initially extract mortality data out study outset, we'll pull the ICU death status for our cohort from the database directly. We'll then build a logistic regression model adjusting for baseline covariates."
   ]
  },
  {
   "cell_type": "markdown",
   "metadata": {},
   "source": [
    "## Step 0: Envrionment Setup"
   ]
  },
  {
   "cell_type": "code",
   "execution_count": 1,
   "metadata": {},
   "outputs": [
    {
     "name": "stderr",
     "output_type": "stream",
     "text": [
      "/Users/cosgriffc/anaconda2/envs/DL_36/lib/python3.6/site-packages/statsmodels/compat/pandas.py:56: FutureWarning: The pandas.core.datetools module is deprecated and will be removed in a future version. Please use the pandas.tseries module instead.\n",
      "  from pandas.core import datetools\n"
     ]
    }
   ],
   "source": [
    "import numpy as np\n",
    "import pandas as pd\n",
    "import matplotlib\n",
    "import matplotlib.pyplot as plt\n",
    "from statsmodels.formula.api import logit\n",
    "from scipy import stats # fix so you can use logit summary\n",
    "stats.chisqprob = lambda chisq, df: stats.chi2.sf(chisq, df)\n",
    "import psycopg2\n",
    "\n",
    "# postgres envrionment setup; placeholds here, place your own info\n",
    "sqluser = 'mimicuser'\n",
    "userpass = 'harvardmit2018'\n",
    "dbname = 'eicu'\n",
    "schema_name = 'eicu_crd'\n",
    "host = '10.8.0.1'\n",
    "\n",
    "query_schema = 'SET search_path TO ' + schema_name + ';'\n",
    "\n",
    "# connect to the database\n",
    "con = psycopg2.connect(dbname = dbname, user = sqluser, host = host, password = userpass)\n",
    "\n",
    "# \"Tableau 20\" colors as RGB.   \n",
    "tableau20 = [(31, 119, 180), (174, 199, 232), (255, 127, 14), (255, 187, 120),    \n",
    "             (44, 160, 44), (152, 223, 138), (214, 39, 40), (255, 152, 150),    \n",
    "             (148, 103, 189), (197, 176, 213), (140, 86, 75), (196, 156, 148),    \n",
    "             (227, 119, 194), (247, 182, 210), (127, 127, 127), (199, 199, 199),    \n",
    "             (188, 189, 34), (219, 219, 141), (23, 190, 207), (158, 218, 229)]  \n",
    "  \n",
    "# Scale the RGB values to the [0, 1] range, which is the format matplotlib accepts.    \n",
    "for i in range(len(tableau20)):    \n",
    "    r, g, b = tableau20[i]    \n",
    "    tableau20[i] = (r / 255., g / 255., b / 255.)\n",
    "\n",
    "marker = ['v','o','d','^','s','>','+']\n",
    "ls = ['-','-','-','-','-','s','--','--']\n",
    "\n",
    "# configure matplotlib\n",
    "plt.rcParams.update({'font.size': 22})\n",
    "plt.style.use('classic')\n",
    "plt.rcParams.update({'figure.max_open_warning': 0})\n",
    "\n",
    "# configure jupyter for using matplotlib\n",
    "%config InlineBackend.figure_format = 'retina'\n",
    "%matplotlib inline\n",
    "\n",
    "cohort = pd.read_csv('../cleaned_cohort.csv')"
   ]
  },
  {
   "cell_type": "markdown",
   "metadata": {},
   "source": [
    "## Step 1: Extract Mortality\n",
    "\n",
    "We begin by extracting mortality from the database."
   ]
  },
  {
   "cell_type": "code",
   "execution_count": 27,
   "metadata": {},
   "outputs": [],
   "source": [
    "query = query_schema + '''\n",
    "SELECT patientunitstayid\n",
    "    , CASE\n",
    "    WHEN actualicumortality = 'EXPIRED' THEN 1\n",
    "    WHEN actualicumortality = 'ALIVE' THEN 0\n",
    "    ELSE null\n",
    "    END AS mortality\n",
    "    \n",
    "FROM apachepatientresult\n",
    "WHERE apacheversion = 'IVa'; -- or else we'll get double results for every patient\n",
    "'''\n",
    "\n",
    "icu_mortality = pd.read_sql_query(query, con)"
   ]
  },
  {
   "cell_type": "markdown",
   "metadata": {},
   "source": [
    "Next, we join these data to our cohort data."
   ]
  },
  {
   "cell_type": "code",
   "execution_count": 29,
   "metadata": {},
   "outputs": [],
   "source": [
    "cohort_mortality = cohort.merge(icu_mortality, on = 'patientunitstayid')"
   ]
  },
  {
   "cell_type": "markdown",
   "metadata": {},
   "source": [
    "Finally, since we are building models, we'll get our data in to proper form."
   ]
  },
  {
   "cell_type": "code",
   "execution_count": 30,
   "metadata": {},
   "outputs": [],
   "source": [
    "# extra index we don't need from csv\n",
    "cohort_mortality = cohort_mortality.drop('Unnamed: 0', axis = 1)\n",
    "\n",
    "# rename ethnicity labels to make them like variable names\n",
    "cohort_mortality.loc[cohort_mortality.ethnicity == 'African American', 'ethnicity'] = 'african_american'\n",
    "cohort_mortality.loc[cohort_mortality.ethnicity == 'Native American', 'ethnicity'] = 'native_american'\n",
    "cohort_mortality.loc[cohort_mortality.ethnicity == 'Other/Unknown', 'ethnicity'] = 'other'\n",
    "cohort_mortality.loc[cohort_mortality.ethnicity == 'Asian', 'ethnicity'] = 'asian'\n",
    "cohort_mortality.loc[cohort_mortality.ethnicity == 'Caucasian', 'ethnicity'] = 'caucasian'\n",
    "cohort_mortality.loc[cohort_mortality.ethnicity == 'Hispanic', 'ethnicity'] = 'hispanic'\n",
    "eth = pd.get_dummies(cohort_mortality.ethnicity, prefix = 'eth')\n",
    "eth = eth.drop('eth_caucasian', axis = 1)\n",
    "cohort_mortality = pd.concat([cohort_mortality, eth], axis = 1)\n",
    "cohort_mortality = cohort_mortality.drop('ethnicity', axis = 1)\n",
    "\n",
    "# set index to stay ID\n",
    "cohort_mortality = cohort_mortality.set_index('patientunitstayid')"
   ]
  },
  {
   "cell_type": "markdown",
   "metadata": {},
   "source": [
    "## Step 2: Low APACHE IVa, Mortality Model\n",
    "\n",
    "We'll now build a mortality model for lactate discordance. In this population lactate discordance means higher than would be expected in the non-critically ill. We'll adjust for age, gender, ethnicity, ventilation, pressors, and APACHE IVa score. We'll model use outcome regression of the form: $$logit\\,Pr[Y=1|X,L] = \\beta_0 + \\beta_1X^T + \\beta_2L^T$$"
   ]
  },
  {
   "cell_type": "code",
   "execution_count": 47,
   "metadata": {},
   "outputs": [
    {
     "name": "stdout",
     "output_type": "stream",
     "text": [
      "Optimization terminated successfully.\n",
      "         Current function value: 0.061115\n",
      "         Iterations 21\n"
     ]
    },
    {
     "data": {
      "text/html": [
       "<table class=\"simpletable\">\n",
       "<caption>Logit Regression Results</caption>\n",
       "<tr>\n",
       "  <th>Dep. Variable:</th>     <td>mortality</td>    <th>  No. Observations:  </th>  <td> 13204</td>  \n",
       "</tr>\n",
       "<tr>\n",
       "  <th>Model:</th>               <td>Logit</td>      <th>  Df Residuals:      </th>  <td> 13192</td>  \n",
       "</tr>\n",
       "<tr>\n",
       "  <th>Method:</th>               <td>MLE</td>       <th>  Df Model:          </th>  <td>    11</td>  \n",
       "</tr>\n",
       "<tr>\n",
       "  <th>Date:</th>          <td>Sun, 06 May 2018</td> <th>  Pseudo R-squ.:     </th>  <td>0.05763</td> \n",
       "</tr>\n",
       "<tr>\n",
       "  <th>Time:</th>              <td>10:24:21</td>     <th>  Log-Likelihood:    </th> <td> -806.96</td> \n",
       "</tr>\n",
       "<tr>\n",
       "  <th>converged:</th>           <td>True</td>       <th>  LL-Null:           </th> <td> -856.31</td> \n",
       "</tr>\n",
       "<tr>\n",
       "  <th> </th>                      <td> </td>        <th>  LLR p-value:       </th> <td>3.241e-16</td>\n",
       "</tr>\n",
       "</table>\n",
       "<table class=\"simpletable\">\n",
       "<tr>\n",
       "               <td></td>                  <th>coef</th>     <th>std err</th>      <th>z</th>      <th>P>|z|</th>  <th>[0.025</th>    <th>0.975]</th>  \n",
       "</tr>\n",
       "<tr>\n",
       "  <th>Intercept</th>                   <td>   -7.9053</td> <td>    0.539</td> <td>  -14.672</td> <td> 0.000</td> <td>   -8.961</td> <td>   -6.849</td>\n",
       "</tr>\n",
       "<tr>\n",
       "  <th>lactate_discordance[T.True]</th> <td>    0.7705</td> <td>    0.199</td> <td>    3.875</td> <td> 0.000</td> <td>    0.381</td> <td>    1.160</td>\n",
       "</tr>\n",
       "<tr>\n",
       "  <th>age</th>                         <td>    0.0295</td> <td>    0.006</td> <td>    5.101</td> <td> 0.000</td> <td>    0.018</td> <td>    0.041</td>\n",
       "</tr>\n",
       "<tr>\n",
       "  <th>male_gender</th>                 <td>    0.3335</td> <td>    0.165</td> <td>    2.017</td> <td> 0.044</td> <td>    0.009</td> <td>    0.658</td>\n",
       "</tr>\n",
       "<tr>\n",
       "  <th>eth_african_american</th>        <td>   -0.0176</td> <td>    0.264</td> <td>   -0.067</td> <td> 0.947</td> <td>   -0.535</td> <td>    0.500</td>\n",
       "</tr>\n",
       "<tr>\n",
       "  <th>eth_native_american</th>         <td>  -59.5788</td> <td> 9.35e+12</td> <td>-6.37e-12</td> <td> 1.000</td> <td>-1.83e+13</td> <td> 1.83e+13</td>\n",
       "</tr>\n",
       "<tr>\n",
       "  <th>eth_other</th>                   <td>    0.3967</td> <td>    0.321</td> <td>    1.237</td> <td> 0.216</td> <td>   -0.232</td> <td>    1.025</td>\n",
       "</tr>\n",
       "<tr>\n",
       "  <th>eth_asian</th>                   <td>   -0.2081</td> <td>    0.719</td> <td>   -0.290</td> <td> 0.772</td> <td>   -1.617</td> <td>    1.201</td>\n",
       "</tr>\n",
       "<tr>\n",
       "  <th>eth_hispanic</th>                <td>    0.0199</td> <td>    0.423</td> <td>    0.047</td> <td> 0.962</td> <td>   -0.810</td> <td>    0.850</td>\n",
       "</tr>\n",
       "<tr>\n",
       "  <th>apachescore</th>                 <td>    0.0346</td> <td>    0.013</td> <td>    2.669</td> <td> 0.008</td> <td>    0.009</td> <td>    0.060</td>\n",
       "</tr>\n",
       "<tr>\n",
       "  <th>oobintubday1</th>                <td>    0.4952</td> <td>    0.198</td> <td>    2.506</td> <td> 0.012</td> <td>    0.108</td> <td>    0.882</td>\n",
       "</tr>\n",
       "<tr>\n",
       "  <th>pressor</th>                     <td>    0.9486</td> <td>    0.216</td> <td>    4.391</td> <td> 0.000</td> <td>    0.525</td> <td>    1.372</td>\n",
       "</tr>\n",
       "</table>"
      ],
      "text/plain": [
       "<class 'statsmodels.iolib.summary.Summary'>\n",
       "\"\"\"\n",
       "                           Logit Regression Results                           \n",
       "==============================================================================\n",
       "Dep. Variable:              mortality   No. Observations:                13204\n",
       "Model:                          Logit   Df Residuals:                    13192\n",
       "Method:                           MLE   Df Model:                           11\n",
       "Date:                Sun, 06 May 2018   Pseudo R-squ.:                 0.05763\n",
       "Time:                        10:24:21   Log-Likelihood:                -806.96\n",
       "converged:                       True   LL-Null:                       -856.31\n",
       "                                        LLR p-value:                 3.241e-16\n",
       "===============================================================================================\n",
       "                                  coef    std err          z      P>|z|      [0.025      0.975]\n",
       "-----------------------------------------------------------------------------------------------\n",
       "Intercept                      -7.9053      0.539    -14.672      0.000      -8.961      -6.849\n",
       "lactate_discordance[T.True]     0.7705      0.199      3.875      0.000       0.381       1.160\n",
       "age                             0.0295      0.006      5.101      0.000       0.018       0.041\n",
       "male_gender                     0.3335      0.165      2.017      0.044       0.009       0.658\n",
       "eth_african_american           -0.0176      0.264     -0.067      0.947      -0.535       0.500\n",
       "eth_native_american           -59.5788   9.35e+12  -6.37e-12      1.000   -1.83e+13    1.83e+13\n",
       "eth_other                       0.3967      0.321      1.237      0.216      -0.232       1.025\n",
       "eth_asian                      -0.2081      0.719     -0.290      0.772      -1.617       1.201\n",
       "eth_hispanic                    0.0199      0.423      0.047      0.962      -0.810       0.850\n",
       "apachescore                     0.0346      0.013      2.669      0.008       0.009       0.060\n",
       "oobintubday1                    0.4952      0.198      2.506      0.012       0.108       0.882\n",
       "pressor                         0.9486      0.216      4.391      0.000       0.525       1.372\n",
       "===============================================================================================\n",
       "\"\"\""
      ]
     },
     "execution_count": 47,
     "metadata": {},
     "output_type": "execute_result"
    }
   ],
   "source": [
    "low_apache = cohort_mortality.loc[cohort_mortality.apache_quartile == cohort_mortality.apache_quartile.min(), :]\n",
    "mortality_glm = logit(formula = '''mortality ~ lactate_discordance + age  + male_gender + eth_african_american + \n",
    "                       + eth_native_american + eth_other + eth_asian + eth_hispanic + apachescore + oobintubday1 +\n",
    "                       pressor''', data = low_apache).fit()\n",
    "mortality_glm.summary()"
   ]
  },
  {
   "cell_type": "markdown",
   "metadata": {},
   "source": [
    "We note a strong signal for `lactate_discordance` and we can convert its coefficient and 95% CI to OR."
   ]
  },
  {
   "cell_type": "code",
   "execution_count": 57,
   "metadata": {},
   "outputs": [
    {
     "name": "stdout",
     "output_type": "stream",
     "text": [
      "                                 2.5%     97.5%        OR\n",
      "lactate_discordance[T.True]  1.463416  3.190797  2.160894\n"
     ]
    }
   ],
   "source": [
    "coef = mortality_glm.params\n",
    "conf = mortality_glm.conf_int()\n",
    "conf['OR'] = coef\n",
    "conf.columns = ['2.5%', '97.5%', 'OR']\n",
    "print(np.exp(conf[1:2]))"
   ]
  },
  {
   "cell_type": "markdown",
   "metadata": {},
   "source": [
    "After adjustment for baseline covariates, we note lactate discordance is associated with increased mortality in this subpopulation."
   ]
  },
  {
   "cell_type": "markdown",
   "metadata": {},
   "source": [
    "## Step 3: High APACHE IVa, Mortality Model\n",
    "\n",
    "We'll now build a mortality model for lactate discordance in the high APACHE IVa population. In this population lactate discordance means lower than would be expected in the severely critically ill; we might hypothesize that it would be protective. We'll adjust for age, gender, ethnicity, ventilation, pressors, and APACHE IVa score. We'll model use outcome regression of the form: $$logit\\,Pr[Y=1|X,L] = \\beta_0 + \\beta_1X^T + \\beta_2L^T$$"
   ]
  },
  {
   "cell_type": "code",
   "execution_count": 59,
   "metadata": {},
   "outputs": [
    {
     "name": "stdout",
     "output_type": "stream",
     "text": [
      "Optimization terminated successfully.\n",
      "         Current function value: 0.522754\n",
      "         Iterations 6\n"
     ]
    },
    {
     "data": {
      "text/html": [
       "<table class=\"simpletable\">\n",
       "<caption>Logit Regression Results</caption>\n",
       "<tr>\n",
       "  <th>Dep. Variable:</th>     <td>mortality</td>    <th>  No. Observations:  </th>  <td> 12244</td> \n",
       "</tr>\n",
       "<tr>\n",
       "  <th>Model:</th>               <td>Logit</td>      <th>  Df Residuals:      </th>  <td> 12232</td> \n",
       "</tr>\n",
       "<tr>\n",
       "  <th>Method:</th>               <td>MLE</td>       <th>  Df Model:          </th>  <td>    11</td> \n",
       "</tr>\n",
       "<tr>\n",
       "  <th>Date:</th>          <td>Sun, 06 May 2018</td> <th>  Pseudo R-squ.:     </th>  <td>0.1301</td> \n",
       "</tr>\n",
       "<tr>\n",
       "  <th>Time:</th>              <td>10:31:54</td>     <th>  Log-Likelihood:    </th> <td> -6400.6</td>\n",
       "</tr>\n",
       "<tr>\n",
       "  <th>converged:</th>           <td>True</td>       <th>  LL-Null:           </th> <td> -7357.7</td>\n",
       "</tr>\n",
       "<tr>\n",
       "  <th> </th>                      <td> </td>        <th>  LLR p-value:       </th>  <td> 0.000</td> \n",
       "</tr>\n",
       "</table>\n",
       "<table class=\"simpletable\">\n",
       "<tr>\n",
       "               <td></td>                  <th>coef</th>     <th>std err</th>      <th>z</th>      <th>P>|z|</th>  <th>[0.025</th>    <th>0.975]</th>  \n",
       "</tr>\n",
       "<tr>\n",
       "  <th>Intercept</th>                   <td>   -4.4646</td> <td>    0.160</td> <td>  -27.892</td> <td> 0.000</td> <td>   -4.778</td> <td>   -4.151</td>\n",
       "</tr>\n",
       "<tr>\n",
       "  <th>lactate_discordance[T.True]</th> <td>   -0.7902</td> <td>    0.055</td> <td>  -14.484</td> <td> 0.000</td> <td>   -0.897</td> <td>   -0.683</td>\n",
       "</tr>\n",
       "<tr>\n",
       "  <th>age</th>                         <td>    0.0010</td> <td>    0.001</td> <td>    0.646</td> <td> 0.519</td> <td>   -0.002</td> <td>    0.004</td>\n",
       "</tr>\n",
       "<tr>\n",
       "  <th>male_gender</th>                 <td>    0.0424</td> <td>    0.044</td> <td>    0.967</td> <td> 0.334</td> <td>   -0.044</td> <td>    0.128</td>\n",
       "</tr>\n",
       "<tr>\n",
       "  <th>eth_african_american</th>        <td>   -0.1910</td> <td>    0.068</td> <td>   -2.804</td> <td> 0.005</td> <td>   -0.324</td> <td>   -0.057</td>\n",
       "</tr>\n",
       "<tr>\n",
       "  <th>eth_native_american</th>         <td>    0.0859</td> <td>    0.205</td> <td>    0.419</td> <td> 0.675</td> <td>   -0.316</td> <td>    0.488</td>\n",
       "</tr>\n",
       "<tr>\n",
       "  <th>eth_other</th>                   <td>   -0.0504</td> <td>    0.101</td> <td>   -0.496</td> <td> 0.620</td> <td>   -0.249</td> <td>    0.149</td>\n",
       "</tr>\n",
       "<tr>\n",
       "  <th>eth_asian</th>                   <td>    0.0246</td> <td>    0.177</td> <td>    0.139</td> <td> 0.889</td> <td>   -0.322</td> <td>    0.371</td>\n",
       "</tr>\n",
       "<tr>\n",
       "  <th>eth_hispanic</th>                <td>   -0.2755</td> <td>    0.123</td> <td>   -2.233</td> <td> 0.026</td> <td>   -0.517</td> <td>   -0.034</td>\n",
       "</tr>\n",
       "<tr>\n",
       "  <th>apachescore</th>                 <td>    0.0304</td> <td>    0.001</td> <td>   27.005</td> <td> 0.000</td> <td>    0.028</td> <td>    0.033</td>\n",
       "</tr>\n",
       "<tr>\n",
       "  <th>oobintubday1</th>                <td>    0.2291</td> <td>    0.056</td> <td>    4.069</td> <td> 0.000</td> <td>    0.119</td> <td>    0.340</td>\n",
       "</tr>\n",
       "<tr>\n",
       "  <th>pressor</th>                     <td>    0.5179</td> <td>    0.045</td> <td>   11.571</td> <td> 0.000</td> <td>    0.430</td> <td>    0.606</td>\n",
       "</tr>\n",
       "</table>"
      ],
      "text/plain": [
       "<class 'statsmodels.iolib.summary.Summary'>\n",
       "\"\"\"\n",
       "                           Logit Regression Results                           \n",
       "==============================================================================\n",
       "Dep. Variable:              mortality   No. Observations:                12244\n",
       "Model:                          Logit   Df Residuals:                    12232\n",
       "Method:                           MLE   Df Model:                           11\n",
       "Date:                Sun, 06 May 2018   Pseudo R-squ.:                  0.1301\n",
       "Time:                        10:31:54   Log-Likelihood:                -6400.6\n",
       "converged:                       True   LL-Null:                       -7357.7\n",
       "                                        LLR p-value:                     0.000\n",
       "===============================================================================================\n",
       "                                  coef    std err          z      P>|z|      [0.025      0.975]\n",
       "-----------------------------------------------------------------------------------------------\n",
       "Intercept                      -4.4646      0.160    -27.892      0.000      -4.778      -4.151\n",
       "lactate_discordance[T.True]    -0.7902      0.055    -14.484      0.000      -0.897      -0.683\n",
       "age                             0.0010      0.001      0.646      0.519      -0.002       0.004\n",
       "male_gender                     0.0424      0.044      0.967      0.334      -0.044       0.128\n",
       "eth_african_american           -0.1910      0.068     -2.804      0.005      -0.324      -0.057\n",
       "eth_native_american             0.0859      0.205      0.419      0.675      -0.316       0.488\n",
       "eth_other                      -0.0504      0.101     -0.496      0.620      -0.249       0.149\n",
       "eth_asian                       0.0246      0.177      0.139      0.889      -0.322       0.371\n",
       "eth_hispanic                   -0.2755      0.123     -2.233      0.026      -0.517      -0.034\n",
       "apachescore                     0.0304      0.001     27.005      0.000       0.028       0.033\n",
       "oobintubday1                    0.2291      0.056      4.069      0.000       0.119       0.340\n",
       "pressor                         0.5179      0.045     11.571      0.000       0.430       0.606\n",
       "===============================================================================================\n",
       "\"\"\""
      ]
     },
     "execution_count": 59,
     "metadata": {},
     "output_type": "execute_result"
    }
   ],
   "source": [
    "high_apache = cohort_mortality.loc[cohort_mortality.apache_quartile == cohort_mortality.apache_quartile.max(), :]\n",
    "mortality_glm = logit(formula = '''mortality ~ lactate_discordance + age  + male_gender + eth_african_american + \n",
    "                       + eth_native_american + eth_other + eth_asian + eth_hispanic + apachescore + oobintubday1 +\n",
    "                       pressor''', data = high_apache).fit()\n",
    "mortality_glm.summary()"
   ]
  },
  {
   "cell_type": "markdown",
   "metadata": {},
   "source": [
    "We note a strong signal for `lactate_discordance` and we can convert its coefficient and 95% CI to OR."
   ]
  },
  {
   "cell_type": "code",
   "execution_count": 60,
   "metadata": {},
   "outputs": [
    {
     "name": "stdout",
     "output_type": "stream",
     "text": [
      "                                 2.5%     97.5%       OR\n",
      "lactate_discordance[T.True]  0.407725  0.504948  0.45374\n"
     ]
    }
   ],
   "source": [
    "coef = mortality_glm.params\n",
    "conf = mortality_glm.conf_int()\n",
    "conf['OR'] = coef\n",
    "conf.columns = ['2.5%', '97.5%', 'OR']\n",
    "print(np.exp(conf[1:2]))"
   ]
  },
  {
   "cell_type": "markdown",
   "metadata": {},
   "source": [
    "As we hypothesized, here lactate is associated with decreased mortality."
   ]
  }
 ],
 "metadata": {
  "kernelspec": {
   "display_name": "Python 3",
   "language": "python",
   "name": "python3"
  },
  "language_info": {
   "codemirror_mode": {
    "name": "ipython",
    "version": 3
   },
   "file_extension": ".py",
   "mimetype": "text/x-python",
   "name": "python",
   "nbconvert_exporter": "python",
   "pygments_lexer": "ipython3",
   "version": "3.6.4"
  }
 },
 "nbformat": 4,
 "nbformat_minor": 2
}
